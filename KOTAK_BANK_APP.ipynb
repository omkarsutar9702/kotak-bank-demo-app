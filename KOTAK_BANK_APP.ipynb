{
 "cells": [
  {
   "cell_type": "code",
   "execution_count": 1,
   "id": "2df0cced",
   "metadata": {},
   "outputs": [],
   "source": [
    "import ipywidgets as widgets\n",
    "from IPython.display import display, clear_output\n",
    "from ipywidgets import Button, Layout\n",
    "import warnings \n",
    "warnings.filterwarnings(\"ignore\")"
   ]
  },
  {
   "cell_type": "code",
   "execution_count": 2,
   "id": "ae811a5c",
   "metadata": {},
   "outputs": [],
   "source": [
    "name = widgets.Text(placeholder='type here',description='Your name:',\n",
    "style={'description_width': 'initial' })"
   ]
  },
  {
   "cell_type": "code",
   "execution_count": 3,
   "id": "aa468f65",
   "metadata": {},
   "outputs": [],
   "source": [
    "surename = widgets.Text(placeholder='type here',description='Your Surename:',\n",
    "style={'description_width': 'initial' })"
   ]
  },
  {
   "cell_type": "code",
   "execution_count": 4,
   "id": "dfbfc697",
   "metadata": {},
   "outputs": [],
   "source": [
    "contact_no = widgets.IntText(value=0,description='contact no.',style={'description_width': 'initial' })"
   ]
  },
  {
   "cell_type": "code",
   "execution_count": 5,
   "id": "360dd038",
   "metadata": {},
   "outputs": [],
   "source": [
    "date = widgets.DatePicker(description=\"date of birth\")"
   ]
  },
  {
   "cell_type": "code",
   "execution_count": 6,
   "id": "60afb8f0",
   "metadata": {},
   "outputs": [],
   "source": [
    "family_annual_income = widgets.IntSlider(value=0,min=100000,max=1000000,step=100000,\n",
    "description=\"family annual income\",style={'description_width': 'initial' })"
   ]
  },
  {
   "cell_type": "code",
   "execution_count": 7,
   "id": "9deb81cb",
   "metadata": {},
   "outputs": [],
   "source": [
    "out = widgets.Output(layout={'border': '1px solid black'})"
   ]
  },
  {
   "cell_type": "code",
   "execution_count": 8,
   "id": "d3da9bdd",
   "metadata": {},
   "outputs": [],
   "source": [
    "resi_address=widgets.Textarea(placeholder='Your Residential Address',description='Adderess:',\n",
    "disabled=False,layout=Layout(width='40%', height='50px',style={\"description_width\":\"initial\"}))"
   ]
  },
  {
   "cell_type": "code",
   "execution_count": 9,
   "id": "4ad8f5ff",
   "metadata": {},
   "outputs": [],
   "source": [
    "experience = widgets.IntSlider(min=0,max=30,step=1,description=\"working experience\"\n",
    ",style={\"description_width\":\"initial\"})"
   ]
  },
  {
   "cell_type": "code",
   "execution_count": 10,
   "id": "64c9b023",
   "metadata": {},
   "outputs": [],
   "source": [
    "email = widgets.Text(placeholder=\"entar your email.id\",description=\"Email Id:\"\n",
    ",style={\"description_width\":\"initial\"})"
   ]
  },
  {
   "cell_type": "code",
   "execution_count": 11,
   "id": "61609e14",
   "metadata": {},
   "outputs": [],
   "source": [
    "place_you_retirefrom = widgets.Text(placeholder='enter your place of retirement',\n",
    "description=\"place of retirement\",style={\"description_width\":\"initial\"})"
   ]
  },
  {
   "cell_type": "code",
   "execution_count": 12,
   "id": "d2fc6e60",
   "metadata": {},
   "outputs": [],
   "source": [
    "file = open(\"kotak.jpg\",'rb')\n",
    "image = file.read()\n",
    "\n",
    "image_headline = widgets.Image(value=image,\n",
    "                              format='jpg',\n",
    "                              width='100')\n",
    "label_headline = widgets.Label(value='by kotak bank',\n",
    "                              style={'description_width': 'initial'})\n",
    "vbox_headline = widgets.VBox([image_headline,label_headline])\n"
   ]
  },
  {
   "cell_type": "code",
   "execution_count": 13,
   "id": "b7df282e",
   "metadata": {},
   "outputs": [],
   "source": [
    "text0 = widgets.HTML(value=\"<h1>Welcome To Kotak Bank Portal:</h1>\")\n",
    "text1 = widgets.HTML(value=\"<h2>Enter Your Details</h2>\")\n",
    "text2 = widgets.HTML(value=\"<h3>enter your date of birth</h3>\")\n",
    "text3 = widgets.HTML(value=\"<h3>annual family income</h3>\")\n"
   ]
  },
  {
   "cell_type": "code",
   "execution_count": 14,
   "id": "481622f4",
   "metadata": {},
   "outputs": [],
   "source": [
    "header_box =widgets.VBox([vbox_headline,text0])\n",
    "body0=widgets.HBox([name,surename,contact_no])\n",
    "body1 =widgets.HBox([date,family_annual_income,experience])\n",
    "footer = widgets.HBox([resi_address,email,place_you_retirefrom])"
   ]
  },
  {
   "cell_type": "code",
   "execution_count": 15,
   "id": "fad587af",
   "metadata": {},
   "outputs": [],
   "source": [
    "page = widgets.VBox([header_box,out,body0,body1,footer])"
   ]
  },
  {
   "cell_type": "code",
   "execution_count": 16,
   "id": "ef5ee247",
   "metadata": {},
   "outputs": [
    {
     "data": {
      "application/vnd.jupyter.widget-view+json": {
       "model_id": "1a410983b4954500bf926fcf7f1a21a1",
       "version_major": 2,
       "version_minor": 0
      },
      "text/plain": [
       "VBox(children=(VBox(children=(VBox(children=(Image(value=b'\\xff\\xd8\\xff\\xe0\\x00\\x10JFIF\\x00\\x01\\x01\\x00\\x00\\x0…"
      ]
     },
     "metadata": {},
     "output_type": "display_data"
    }
   ],
   "source": [
    "display(page)"
   ]
  },
  {
   "cell_type": "code",
   "execution_count": 17,
   "id": "cac343e6-722b-4748-9b11-b7b459052c2c",
   "metadata": {},
   "outputs": [],
   "source": [
    "!pip freeze > rquirements.txt"
   ]
  },
  {
   "cell_type": "code",
   "execution_count": null,
   "id": "eab1121c",
   "metadata": {},
   "outputs": [],
   "source": []
  }
 ],
 "metadata": {
  "kernelspec": {
   "display_name": "Python 3",
   "language": "python",
   "name": "python3"
  },
  "language_info": {
   "codemirror_mode": {
    "name": "ipython",
    "version": 3
   },
   "file_extension": ".py",
   "mimetype": "text/x-python",
   "name": "python",
   "nbconvert_exporter": "python",
   "pygments_lexer": "ipython3",
   "version": "3.8.11"
  }
 },
 "nbformat": 4,
 "nbformat_minor": 5
}
